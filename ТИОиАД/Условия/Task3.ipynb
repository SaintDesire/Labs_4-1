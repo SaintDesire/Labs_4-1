{
  "metadata": {
    "language_info": {
      "codemirror_mode": {
        "name": "python",
        "version": 3
      },
      "file_extension": ".py",
      "mimetype": "text/x-python",
      "name": "python",
      "nbconvert_exporter": "python",
      "pygments_lexer": "ipython3",
      "version": "3.8"
    },
    "kernelspec": {
      "name": "python",
      "display_name": "Python (Pyodide)",
      "language": "python"
    }
  },
  "nbformat_minor": 4,
  "nbformat": 4,
  "cells": [
    {
      "cell_type": "markdown",
      "source": "Импортируйте библиотеку pandas как pd. Загрузите два датасета user_data и logs. \nПроверьте размер таблицы, типы переменных.\n\n# Описание данных\n\nuser_data:\n\nclient – идентификатор пользователя\n\npremium – является ли клиент премиум\n\nage – возраст\n\nlogs:\n\nclient – идентификатор пользователя\n\nsuccess – результат (успех - 1, нет - 0)\n\nplatform – платформа\n\ntime – время в формате Unix\n\n\n",
      "metadata": {}
    },
    {
      "cell_type": "markdown",
      "source": "# Задание 1 \n\nВопрос: Сколько уникальных значений принимает переменная platform?",
      "metadata": {}
    },
    {
      "cell_type": "markdown",
      "source": "# Задание 2\n\nС какой платформы осуществляется наибольшее количество успешных операций? (success == True)\n\n\nПодсказка: вспомните команды из прошлого занятия \n\nНазвание_датафрейма.query('success == True').platform.value_counts()\n\nа еще команда idxmax()",
      "metadata": {}
    },
    {
      "cell_type": "markdown",
      "source": "# Задание 3\n\nКакой клиент совершил больше всего успешных операций?\n\nВнимание: Несколько пользователей могли совершить одинаковое число успешных действий\n\nПодсказка: вспомните команды из прошлого урока \n\nНазвание_датафрейма.query('success == True').client.value_counts()\n\nтакже поможет команда max()",
      "metadata": {}
    },
    {
      "cell_type": "markdown",
      "source": "# Задание 4\n\nОбъедините два датафрейма в один по столбцу 'client'\n\nПодсказка: Название_датафрейма_1.merge(Название_датафрейма_2, on='client')",
      "metadata": {}
    },
    {
      "cell_type": "markdown",
      "source": "# Задание 5\n\nКакая платформа наиболее популярна среди премиумных клиентов? (premium == True)",
      "metadata": {}
    },
    {
      "cell_type": "markdown",
      "source": "# Задание 6\n\nСделайте выборку для премиальных клиентов (premium` == True) и для непримеальных.\n\nНа основе этих выборок постройте графики, первый - отображающий популярность использования различных платформ (столбец \"platform\") у премиальных пользователей и второй - платформы сради непримиальных пользователей. \n\nПодсказка: используйте sns.countplot(x=название_выборки[\"столбец\"])",
      "metadata": {}
    },
    {
      "cell_type": "markdown",
      "source": "# Задание 7\n\nВизуализируйте число успешных операций, сделанных на платформе computer, в зависимости от возраста, используя sns.countplot. По оси x – возраст, y – число успешных операций. \n\nЕсли размер графика получается небольшим, можно добавить plt.figure(figsize=(12, 8)) в начало соответствующей ячейки.\n\nПодсказка: sns.countplot(data=Название_Датафрейма.loc[(Название_Датафрейма.platform == 'computer')\n                                   & (Название_Датафрейма.success == True)], x='age')",
      "metadata": {}
    },
    {
      "cell_type": "code",
      "source": "",
      "metadata": {},
      "execution_count": null,
      "outputs": []
    }
  ]
}